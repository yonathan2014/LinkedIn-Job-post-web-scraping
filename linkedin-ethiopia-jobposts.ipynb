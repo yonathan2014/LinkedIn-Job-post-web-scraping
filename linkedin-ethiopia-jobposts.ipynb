{
 "cells": [
  {
   "cell_type": "code",
   "execution_count": 1,
   "id": "009722d4-4742-475c-b60b-57e467c12b32",
   "metadata": {},
   "outputs": [],
   "source": [
    "from selenium import webdriver\n",
    "import time\n",
    "import pandas as pd\n",
    "import os"
   ]
  },
  {
   "cell_type": "code",
   "execution_count": 2,
   "id": "8df30803-20eb-43e2-ac19-497799062596",
   "metadata": {},
   "outputs": [],
   "source": [
    "url = 'https://www.linkedin.com/jobs/search?keywords=&location=ethiopia&geoId=&trk=public_jobs_jobs-search-bar_search-submit&position=1&pageNum=0'"
   ]
  },
  {
   "cell_type": "code",
   "execution_count": 4,
   "id": "c3d1868d-78d3-4421-9efc-fd1c7253be59",
   "metadata": {},
   "outputs": [],
   "source": [
    "wd = webdriver.Chrome(executable_path=r'C:\\Users\\yonat\\Documents\\DAF\\Datasets\\linkedin_ethiopia\\chromedriver.exe')\n",
    "wd.get(url)"
   ]
  },
  {
   "cell_type": "markdown",
   "id": "b3534d3b-19da-4525-bf79-f41c1350a87b",
   "metadata": {},
   "source": [
    "### Number of job posts found"
   ]
  },
  {
   "cell_type": "code",
   "execution_count": 6,
   "id": "15387a90-9795-4434-98f1-a100564733e8",
   "metadata": {},
   "outputs": [],
   "source": [
    "no_of_jobs = int(wd.find_element_by_css_selector('h1>span').get_attribute('innerText'))"
   ]
  },
  {
   "cell_type": "markdown",
   "id": "18f265fa-b229-4cf3-baa6-6cd13f6c18d4",
   "metadata": {},
   "source": [
    "### Browse all the Jobs"
   ]
  },
  {
   "cell_type": "code",
   "execution_count": 12,
   "id": "c18c83af-1604-4360-80c0-c89d84b317cc",
   "metadata": {},
   "outputs": [],
   "source": [
    "i = 2\n",
    "while i <= int(no_of_jobs/25)+1: \n",
    "    wd.execute_script(\"window.scrollTo(0, document.body.scrollHeight);\")\n",
    "    i = i + 1\n",
    "    try:\n",
    "        wd.find_element_by_xpath\n",
    "        (\"/html/body/main/div/section/button\").click()\n",
    "        time.sleep(5)\n",
    "    except:\n",
    "         pass\n",
    "         time.sleep(5)"
   ]
  },
  {
   "cell_type": "markdown",
   "id": "08c8e680-3567-4c9c-809a-704ef28e30b2",
   "metadata": {},
   "source": [
    "### Finding all the job posts"
   ]
  },
  {
   "cell_type": "code",
   "execution_count": 15,
   "id": "27ed0e44-4600-491d-af8d-0153cec4126b",
   "metadata": {},
   "outputs": [],
   "source": [
    "job_lists = wd.find_element_by_class_name('jobs-search__results-list')\n",
    "jobs = job_lists.find_elements_by_tag_name('li') # return a list"
   ]
  },
  {
   "cell_type": "code",
   "execution_count": 16,
   "id": "aafde426-2d97-4c32-969c-602504ba19c6",
   "metadata": {},
   "outputs": [
    {
     "data": {
      "text/plain": [
       "175"
      ]
     },
     "execution_count": 16,
     "metadata": {},
     "output_type": "execute_result"
    }
   ],
   "source": [
    "len(jobs)"
   ]
  },
  {
   "cell_type": "code",
   "execution_count": 18,
   "id": "982914d4-67f6-4e69-8e4f-f253a4fcc977",
   "metadata": {},
   "outputs": [],
   "source": [
    "job_id= []\n",
    "job_title = []\n",
    "company_name = []\n",
    "location = []\n",
    "date = []\n",
    "job_link = []\n",
    "for job in jobs:\n",
    " job_id0 = job.get_attribute('data-id')\n",
    " job_id.append(job_id0)\n",
    " \n",
    " job_title0 = job.find_element_by_css_selector('h3').get_attribute('innerText')\n",
    " job_title.append(job_title0)\n",
    " \n",
    " company_name0 = job.find_element_by_css_selector('h4').get_attribute('innerText')\n",
    " company_name.append(company_name0)\n",
    " \n",
    " location0 = job.find_element_by_css_selector('[class=\"job-search-card__location\"]').get_attribute('innerText')\n",
    " location.append(location0)\n",
    " \n",
    " date0 = job.find_element_by_css_selector('div>div>time').get_attribute('datetime')\n",
    " date.append(date0)\n",
    " \n",
    " job_link0 = job.find_element_by_css_selector('a').get_attribute('href')\n",
    " job_link.append(job_link0)"
   ]
  },
  {
   "cell_type": "code",
   "execution_count": 32,
   "id": "c8c4c020-98cd-4965-b7d2-fccceec210e7",
   "metadata": {},
   "outputs": [],
   "source": [
    "job_data = pd.DataFrame({'ID': job_id,\n",
    "'Date': date,\n",
    "'Company': company_name,\n",
    "'Title': job_title,\n",
    "'Location': location,\n",
    "'Link': job_link\n",
    "})\n",
    "job_data.to_excel('ethiopia_job_posts.xlsx', index = False)"
   ]
  },
  {
   "cell_type": "code",
   "execution_count": null,
   "id": "b9f20707-287b-4089-a3c2-083bf9803c78",
   "metadata": {},
   "outputs": [],
   "source": []
  },
  {
   "cell_type": "markdown",
   "id": "b2a6d8ef-6032-467a-a363-a25b388b5a83",
   "metadata": {},
   "source": []
  },
  {
   "cell_type": "code",
   "execution_count": null,
   "id": "665f4623-bf68-4e09-9809-6cf99a238194",
   "metadata": {},
   "outputs": [],
   "source": []
  }
 ],
 "metadata": {
  "kernelspec": {
   "display_name": "Python 3 (ipykernel)",
   "language": "python",
   "name": "python3"
  },
  "language_info": {
   "codemirror_mode": {
    "name": "ipython",
    "version": 3
   },
   "file_extension": ".py",
   "mimetype": "text/x-python",
   "name": "python",
   "nbconvert_exporter": "python",
   "pygments_lexer": "ipython3",
   "version": "3.9.12"
  }
 },
 "nbformat": 4,
 "nbformat_minor": 5
}
